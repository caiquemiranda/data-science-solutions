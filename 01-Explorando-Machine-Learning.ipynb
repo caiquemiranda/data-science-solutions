{
 "cells": [
  {
   "cell_type": "markdown",
   "metadata": {},
   "source": [
    "### Explorando o aprendizado de máquina"
   ]
  },
  {
   "cell_type": "markdown",
   "metadata": {},
   "source": [
    "Este capítulo apresenta os melhores métodos de aprendizado de máquina e especifica os principais diferenças entre aprendizado de máquina supervisionado e não supervisionado. Também discute diversas aplicações de ambos.\n",
    "\n",
    "O aprendizado de máquina já existe há muito tempo; no entanto, ganhou recentemente reconhecimento generalizado. Isso se deve ao aumento do poder computacional do sistemas informáticos modernos e a facilidade de acesso a plataformas de código aberto e estruturas. O aprendizado de máquina envolve induzir sistemas de computador com inteligência por meio de implementação de diversas técnicas de programação e estatísticas. Ele se baseia em campos como como estatística, linguística computacional e neurociência, entre outros. Também se aplica estatísticas modernas e programação básica. Ele permite que os desenvolvedores desenvolvam e implantem sistemas computacionais inteligentes e criar aplicações práticas e confiáveis."
   ]
  },
  {
   "cell_type": "markdown",
   "metadata": {},
   "source": [
    "#### Explorando métodos supervisionados"
   ]
  },
  {
   "cell_type": "markdown",
   "metadata": {},
   "source": [
    "O aprendizado supervisionado envolve alimentar um algoritmo de aprendizado de máquina com uma grande quantidade de dados. definido, através do qual aprende a saída desejada. Os principais métodos de aprendizado de máquina são lineares, não lineares e conjuntos. A seção a seguir familiariza você com o método paramétrico, também conhecido como método de regressão linear. Consulte a Tabela 1-1. \n",
    "\n",
    "Os métodos de regressão linear esperam que os dados sigam uma distribuição gaussiana. O o método dos mínimos quadrados ordinários é o método linear padrão; minimiza o erro em termos e determina a inclinação e a interceptação para ajustar os dados a uma linha reta (onde o recurso dependente é contínuo). \n",
    "\n",
    "Além disso, o método dos mínimos quadrados ordinários determina a extensão do associação entre os recursos. Também assume linearidade, sem autocorrelação em resíduos e sem multicolinearidade. No mundo real, os dados quase nunca provêm de uma distribuição normal; o método se esforça para explicar a variabilidade, resultando em um modelo mal ajustado ou sobreajustado. Para resolver esse problema, introduzimos um termo de penalidade à equação para alterar o desempenho do modelo."
   ]
  },
  {
   "cell_type": "markdown",
   "metadata": {},
   "source": [
    "Tabela 1-1. Tipos de métodos paramétricos\n",
    "\n",
    "| Model | Descrição | \n",
    "|---|---|\n",
    "| Método de regressão linear | Aplicado quando há um recurso dependente (recurso contínuo) e um recurso independente (característica contínua de categórica). O principal os métodos de regressão linear são GLM, Ridge, Lasso, Elastic Net, etc. |\n",
    "| Método de regressão de sobrevivência | Aplicado a dados censurados relacionados a eventos temporais, onde o dependente O traço é categórico e o traço independente é contínuo. |\n",
    "| Método de análise de série temporal | Aplicado para descobrir padrões em dados sequenciais e previsões instâncias futuras. Os principais modelos de série temporal incluem o ARIMA modelo, SARIMA, modelo aditivo, etc. | "
   ]
  },
  {
   "cell_type": "markdown",
   "metadata": {},
   "source": [
    "#### Explorando modelos não lineares"
   ]
  },
  {
   "cell_type": "markdown",
   "metadata": {},
   "source": [
    "Os métodos não lineares (classificação) diferenciam classes (também chamadas de categorias ou rótulos) — consulte a Tabela 1-2. Quando houver duas lasses no recurso dependente, você implementar métodos de classificação binária. Quando houver mais de duas turmas, você implementar métodos de classificação multiclasse. Existem inúmeras funções para classificação, incluindo sigmóide, tangente hiperbólica e kernel, entre outros. Deles aplicação depende do contexto. Os capítulos subsequentes cobrirão alguns desses funções."
   ]
  },
  {
   "cell_type": "markdown",
   "metadata": {},
   "source": [
    "Tabela 1-2. Variando Modelos Não Lineares\n",
    "\n",
    "| Model | Descrição | \n",
    "|---|---|\n",
    "| Método de classificação binária | Aplicado quando o traço categórico tem apenas dois possíveis resultados. O classificador binário popular é a regressão logística modelo. |\n",
    "| Método de Classificação multiclasse | Aplicado quando o traço categórico tem mais de dois Possíveis resultados. O principal classificador multiclasse é o Modelo de Análise Discriminante Linear (que também pode ser usado para redução de dimensão).\n",
    "| Método de Classificação de sobrevivência | Aplicada quando você está calculando as probabilidades de um evento ocorrendo usando um recurso categórico."
   ]
  },
  {
   "cell_type": "markdown",
   "metadata": {},
   "source": [
    "#### Explorando métodos de conjunto"
   ]
  },
  {
   "cell_type": "markdown",
   "metadata": {},
   "source": [
    "Os métodos de conjunto permitem descobrir linearidade e não linearidade. O principal ensembler são as árvores florestais aleatórias, que muitas vezes exigem muito do ponto de vista computacional. Em Além disso, seu desempenho depende de uma variedade de fatores, como profundidade, iterações, dados divisão e reforço."
   ]
  },
  {
   "cell_type": "markdown",
   "metadata": {},
   "source": [
    "#### Explorando métodos não supervisionados"
   ]
  },
  {
   "cell_type": "markdown",
   "metadata": {},
   "source": [
    "Em contraste com o aprendizado de máquina supervisionado, o aprendizado não supervisionado não contém fundamento verdade. Você expõe o modelo a todos os dados de amostra, permitindo que ele adivinhe o padrão dos dados. Os métodos não supervisionados mais comuns são métodos relacionados a cluster."
   ]
  },
  {
   "cell_type": "markdown",
   "metadata": {},
   "source": [
    "#### Explorando métodos de cluster"
   ]
  },
  {
   "cell_type": "markdown",
   "metadata": {},
   "source": [
    "Os métodos de cluster são convenientes para montar valores comuns nos dados; eles permitem você descobrir padrões em dados estruturados e não estruturados. A Tabela 1-3 destaca um alguns métodos de cluster que você pode usar para adivinhar o padrão dos dados."
   ]
  },
  {
   "cell_type": "markdown",
   "metadata": {},
   "source": [
    "Tabela 1-3. Variando Modelos de Cluster\n",
    "\n",
    "| Técnicas | Descrição | \n",
    "|---|---|\n",
    "| Clustering centróide | Aplicado para determinar o centro dos dados e desenhar pontos de dados em direção o Centro. O principal método de agrupamento de centróides é o método k-means.|\n",
    "| Clustering de densidade | Aplicado para determinar onde os dados estão concentrados. A densidade principal modelo de clustering é o método DBSCAN.|\n",
    "| Clustering de distribuição | Identifica a probabilidade de pontos de dados pertencerem a um cluster com base em alguma distribuição. O principal método de agrupamento de distribuição é o Gaussiano Método de mistura.|"
   ]
  },
  {
   "cell_type": "markdown",
   "metadata": {},
   "source": [
    "#### Explorando a redução de dimensões"
   ]
  },
  {
   "cell_type": "markdown",
   "metadata": {},
   "source": [
    "Os redutores de dimensão ajudam a determinar até que ponto os fatores ou componentes elucidam alterações relacionadas nos dados. A Tabela 1-4 fornece uma visão geral dos principais redutores de dimensão."
   ]
  },
  {
   "cell_type": "markdown",
   "metadata": {},
   "source": [
    "Tabela 1-4. Redutores de Dimensão Principal\n",
    "\n",
    "| Técnica | Descrição |\n",
    "|---|---|\n",
    "| Análise fatorial | Aplicada para determinar até que ponto os fatores elucidam as mudanças relacionadas de recursos nos dados.|\n",
    "| Análise de componente principal | Aplicado para determinar até que ponto os fatores elucidam as mudanças relacionadas de recursos nos dados.|"
   ]
  },
  {
   "cell_type": "markdown",
   "metadata": {},
   "source": [
    "#### Explorando o aprendizado profundo"
   ]
  },
  {
   "cell_type": "markdown",
   "metadata": {},
   "source": [
    "O aprendizado profundo estende o aprendizado de máquina, pois usa redes neurais artificiais para resolver problemas complexos. Você pode usar o aprendizado profundo para descobrir padrões em big data. O aprendizado profundo usa redes neurais artificiais para descobrir padrões em dados complexos. As redes usam uma abordagem semelhante à dos animais, em que neurônios (nós) que recebem dados de entrada do ambiente escaneiam a entrada e a passam para os neurônios em camadas sucessivas para chegar a algum resultado (que é compreender a complexidade do dados). Existem várias redes neurais artificiais que você pode usar para determinar padrões do comportamento de um fenômeno, dependendo do contexto. A Tabela 1-5 destaca o principal redes neurais."
   ]
  },
  {
   "cell_type": "markdown",
   "metadata": {},
   "source": [
    "Tabela 1-5. Variando Redes Neurais\n",
    "\n",
    "| Rede | Descrição |\n",
    "|---|---|\n",
    "| Máquina de Boltzmann restrita (RBM) | A rede neural mais comum que contém apenas o camadas ocultas e visíveis.|\n",
    "| Multilayer Perceptron (MLP) | Uma rede neural que prolonga um Boltzmann restrito máquina com camadas de entrada, ocultas e de saída.|\n",
    "| Rede Neural Recorrente (RNN) | Serve como modelador sequencial.|\n",
    "| Rede Neural Convolucional (CNN) | Serve como redutor e classificador de dimensão.|"
   ]
  },
  {
   "cell_type": "markdown",
   "metadata": {},
   "source": [
    "#### Conclusão"
   ]
  },
  {
   "cell_type": "markdown",
   "metadata": {},
   "source": [
    "Este capítulo abordou duas maneiras pelas quais as máquinas aprendem – por meio de aprendizado supervisionado e aprendizagem não supervisionada. Começou explicando o aprendizado de máquina supervisionado e discutindo os três tipos de métodos de aprendizagem supervisionada e suas aplicações. Isso então cobriu técnicas de aprendizagem não supervisionada, redução de dimensão e análise de cluster."
   ]
  },
  {
   "cell_type": "markdown",
   "metadata": {},
   "source": [
    "#### Estudos by Caique Miranda"
   ]
  }
 ],
 "metadata": {
  "language_info": {
   "name": "python"
  },
  "orig_nbformat": 4
 },
 "nbformat": 4,
 "nbformat_minor": 2
}
