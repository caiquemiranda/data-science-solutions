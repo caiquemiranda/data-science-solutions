{
 "cells": [
  {
   "cell_type": "markdown",
   "metadata": {},
   "source": [
    "### Explorando o aprendizado de máquina"
   ]
  },
  {
   "cell_type": "markdown",
   "metadata": {},
   "source": [
    "Este capítulo apresenta os melhores métodos de aprendizado de máquina e especifica os principais\n",
    "diferenças entre aprendizado de máquina supervisionado e não supervisionado. Também discute\n",
    "diversas aplicações de ambos.\n",
    "O aprendizado de máquina já existe há muito tempo; no entanto, ganhou recentemente\n",
    "reconhecimento generalizado. Isso se deve ao aumento do poder computacional do\n",
    "sistemas informáticos modernos e a facilidade de acesso a plataformas de código aberto e\n",
    "estruturas. O aprendizado de máquina envolve induzir sistemas de computador com inteligência por meio de\n",
    "implementação de diversas técnicas de programação e estatísticas. Ele se baseia em campos como\n",
    "como estatística, linguística computacional e neurociência, entre outros. Também se aplica\n",
    "estatísticas modernas e programação básica. Ele permite que os desenvolvedores desenvolvam e implantem\n",
    "sistemas computacionais inteligentes e criar aplicações práticas e confiáveis."
   ]
  },
  {
   "cell_type": "markdown",
   "metadata": {},
   "source": [
    "#### Explorando métodos supervisionados"
   ]
  },
  {
   "cell_type": "markdown",
   "metadata": {},
   "source": [
    "O aprendizado supervisionado envolve alimentar um algoritmo de aprendizado de máquina com uma grande quantidade de dados.\n",
    "definido, através do qual aprende a saída desejada. Os principais métodos de aprendizado de máquina\n",
    "são lineares, não lineares e conjuntos. A seção a seguir familiariza você com o\n",
    "método paramétrico, também conhecido como método de regressão linear. Consulte a Tabela 1-1.\n",
    "Os métodos de regressão linear esperam que os dados sigam uma distribuição gaussiana. O\n",
    "o método dos mínimos quadrados ordinários é o método linear padrão; minimiza o erro em\n",
    "termos e determina a inclinação e a interceptação para ajustar os dados a uma linha reta (onde o\n",
    "recurso dependente é contínuo).\n",
    "Além disso, o método dos mínimos quadrados ordinários determina a extensão do\n",
    "associação entre os recursos. Também assume linearidade, sem autocorrelação em\n",
    "resíduos e sem multicolinearidade. No mundo real, os dados quase nunca provêm de uma distribuição normal; o método se esforça para explicar a variabilidade, resultando em um\n",
    "modelo mal ajustado ou sobreajustado. Para resolver esse problema, introduzimos um termo de penalidade\n",
    "à equação para alterar o desempenho do modelo."
   ]
  },
  {
   "cell_type": "markdown",
   "metadata": {},
   "source": [
    "Tabela 1-1. Tipos de métodos paramétricos\n",
    "Descrição do modelo\n",
    "Método de regressão linear Aplicado quando há um recurso dependente (recurso contínuo) e\n",
    "um recurso independente (característica contínua de categórica). O principal\n",
    "os métodos de regressão linear são GLM, Ridge, Lasso, Elastic Net, etc.\n",
    "Método de regressão de sobrevivência Aplicado a dados censurados relacionados a eventos temporais, onde o dependente\n",
    "O traço é categórico e o traço independente é contínuo.\n",
    "Método de análise de série temporal Aplicado para descobrir padrões em dados sequenciais e previsões\n",
    "instâncias futuras. Os principais modelos de série temporal incluem o ARIMA\n",
    "modelo, SARIMA, modelo aditivo, etc."
   ]
  },
  {
   "cell_type": "markdown",
   "metadata": {},
   "source": [
    "#### Explorando modelos não lineares"
   ]
  },
  {
   "cell_type": "markdown",
   "metadata": {},
   "source": [
    "Os métodos não lineares (classificação) diferenciam classes (também chamadas de categorias ou\n",
    "rótulos) — consulte a Tabela 1-2. Quando houver duas classes no recurso dependente, você\n",
    "implementar métodos de classificação binária. Quando houver mais de duas turmas, você\n",
    "implementar métodos de classificação multiclasse. Existem inúmeras funções para\n",
    "classificação, incluindo sigmóide, tangente hiperbólica e kernel, entre outros. Deles\n",
    "aplicação depende do contexto. Os capítulos subsequentes cobrirão alguns desses\n",
    "funções."
   ]
  },
  {
   "cell_type": "markdown",
   "metadata": {},
   "source": [
    "Tabela 1-2. Variando Modelos Não Lineares\n",
    "Descrição do modelo\n",
    "Método de classificação binária Aplicado quando o traço categórico tem apenas dois possíveis\n",
    "resultados. O classificador binário popular é a regressão logística\n",
    "modelo.\n",
    "Classificação multiclasse\n",
    "método\n",
    "Aplicado quando o traço categórico tem mais de dois\n",
    "Possíveis resultados. O principal classificador multiclasse é o\n",
    "Modelo de Análise Discriminante Linear (que também pode ser usado para\n",
    "redução de dimensão).\n",
    "Classificação de sobrevivência Aplicada quando você está calculando as probabilidades de um evento\n",
    "ocorrendo usando um recurso categórico."
   ]
  },
  {
   "cell_type": "markdown",
   "metadata": {},
   "source": [
    "#### Explorando métodos de conjunto"
   ]
  },
  {
   "cell_type": "markdown",
   "metadata": {},
   "source": [
    "Os métodos de conjunto permitem descobrir linearidade e não linearidade. O principal\n",
    "ensembler são as árvores florestais aleatórias, que muitas vezes exigem muito do ponto de vista computacional. Em\n",
    "Além disso, seu desempenho depende de uma variedade de fatores, como profundidade, iterações, dados\n",
    "divisão e reforço."
   ]
  },
  {
   "cell_type": "markdown",
   "metadata": {},
   "source": [
    "#### Explorando métodos não supervisionados"
   ]
  },
  {
   "cell_type": "markdown",
   "metadata": {},
   "source": [
    "Em contraste com o aprendizado de máquina supervisionado, o aprendizado não supervisionado não contém fundamento\n",
    "verdade. Você expõe o modelo a todos os dados de amostra, permitindo que ele adivinhe o padrão\n",
    "dos dados. Os métodos não supervisionados mais comuns são métodos relacionados a cluster."
   ]
  },
  {
   "cell_type": "markdown",
   "metadata": {},
   "source": [
    "#### Explorando métodos de cluster"
   ]
  },
  {
   "cell_type": "markdown",
   "metadata": {},
   "source": [
    "Os métodos de cluster são convenientes para montar valores comuns nos dados; eles permitem\n",
    "você descobrir padrões em dados estruturados e não estruturados. A Tabela 1-3 destaca um\n",
    "alguns métodos de cluster que você pode usar para adivinhar o padrão dos dados."
   ]
  },
  {
   "cell_type": "markdown",
   "metadata": {},
   "source": [
    "Tabela 1-3. Variando Modelos de Cluster\n",
    "Descrição das técnicas\n",
    "Clustering centróide Aplicado para determinar o centro dos dados e desenhar pontos de dados em direção\n",
    "o Centro. O principal método de agrupamento de centróides é o método k-means.\n",
    "Clustering de densidade Aplicado para determinar onde os dados estão concentrados. A densidade principal\n",
    "modelo de clustering é o método DBSCAN.\n",
    "Clustering de distribuição Identifica a probabilidade de pontos de dados pertencerem a um cluster com base em\n",
    "alguma distribuição. O principal método de agrupamento de distribuição é o Gaussiano\n",
    "Método de mistura."
   ]
  },
  {
   "cell_type": "markdown",
   "metadata": {},
   "source": [
    "#### Explorando a redução de dimensões"
   ]
  },
  {
   "cell_type": "markdown",
   "metadata": {},
   "source": [
    "Os redutores de dimensão ajudam a determinar até que ponto os fatores ou componentes elucidam\n",
    "alterações relacionadas nos dados. A Tabela 1-4 fornece uma visão geral dos principais redutores de dimensão."
   ]
  },
  {
   "cell_type": "markdown",
   "metadata": {},
   "source": [
    "Tabela 1-4. Redutores de Dimensão Principal\n",
    "Descrição da técnica\n",
    "Análise fatorial Aplicada para determinar até que ponto os fatores elucidam as mudanças relacionadas\n",
    "de recursos nos dados.\n",
    "Principal componente\n",
    "análise\n",
    "Aplicado para determinar até que ponto os fatores elucidam as mudanças relacionadas\n",
    "de recursos nos dados."
   ]
  },
  {
   "cell_type": "markdown",
   "metadata": {},
   "source": [
    "#### Explorando o aprendizado profundo"
   ]
  },
  {
   "cell_type": "markdown",
   "metadata": {},
   "source": [
    "O aprendizado profundo estende o aprendizado de máquina, pois usa redes neurais artificiais para\n",
    "resolver problemas complexos. Você pode usar o aprendizado profundo para descobrir padrões em big data.\n",
    "O aprendizado profundo usa redes neurais artificiais para descobrir padrões em dados complexos.\n",
    "As redes usam uma abordagem semelhante à dos animais, em que neurônios (nós)\n",
    "que recebem dados de entrada do ambiente escaneiam a entrada e a passam para os neurônios em\n",
    "camadas sucessivas para chegar a algum resultado (que é compreender a complexidade do\n",
    "dados). Existem várias redes neurais artificiais que você pode usar para determinar padrões\n",
    "do comportamento de um fenômeno, dependendo do contexto. A Tabela 1-5 destaca o principal\n",
    "redes neurais."
   ]
  },
  {
   "cell_type": "markdown",
   "metadata": {},
   "source": [
    "Tabela 1-5. Variando Redes Neurais\n",
    "Descrição da rede\n",
    "Máquina de Boltzmann restrita (RBM) A rede neural mais comum que contém apenas o\n",
    "camadas ocultas e visíveis.\n",
    "Multilayer Perceptron (MLP) Uma rede neural que prolonga um Boltzmann restrito\n",
    "máquina com camadas de entrada, ocultas e de saída.\n",
    "Rede Neural Recorrente (RNN) Serve como modelador sequencial.\n",
    "Rede Neural Convolucional (CNN) Serve como redutor e classificador de dimensão."
   ]
  },
  {
   "cell_type": "markdown",
   "metadata": {},
   "source": [
    "#### Conclusão"
   ]
  },
  {
   "cell_type": "markdown",
   "metadata": {},
   "source": [
    "Este capítulo abordou duas maneiras pelas quais as máquinas aprendem – por meio de aprendizado supervisionado e\n",
    "aprendizagem não supervisionada. Começou explicando o aprendizado de máquina supervisionado e\n",
    "discutindo os três tipos de métodos de aprendizagem supervisionada e suas aplicações. Isso então\n",
    "cobriu técnicas de aprendizagem não supervisionada, redução de dimensão e análise de cluster."
   ]
  }
 ],
 "metadata": {
  "language_info": {
   "name": "python"
  },
  "orig_nbformat": 4
 },
 "nbformat": 4,
 "nbformat_minor": 2
}
